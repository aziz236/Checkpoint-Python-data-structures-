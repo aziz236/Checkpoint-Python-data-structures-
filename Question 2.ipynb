{
 "cells": [
  {
   "cell_type": "code",
   "execution_count": 6,
   "id": "addf9471",
   "metadata": {},
   "outputs": [
    {
     "name": "stdout",
     "output_type": "stream",
     "text": [
      "Result: [(6, 2), (9, 4), (4, 7), (5, 7)]\n"
     ]
    }
   ],
   "source": [
    "def pickSecond(element):\n",
    "    return element[1]\n",
    "list = [(4, 7), (5, 7), (9, 4), (6, 2)]\n",
    "list.sort(key=pickSecond)\n",
    "print('Result:', list)"
   ]
  }
 ],
 "metadata": {
  "kernelspec": {
   "display_name": "Python 3",
   "language": "python",
   "name": "python3"
  },
  "language_info": {
   "codemirror_mode": {
    "name": "ipython",
    "version": 3
   },
   "file_extension": ".py",
   "mimetype": "text/x-python",
   "name": "python",
   "nbconvert_exporter": "python",
   "pygments_lexer": "ipython3",
   "version": "3.8.8"
  }
 },
 "nbformat": 4,
 "nbformat_minor": 5
}
