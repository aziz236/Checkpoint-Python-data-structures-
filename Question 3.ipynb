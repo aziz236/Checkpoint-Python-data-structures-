{
 "cells": [
  {
   "cell_type": "code",
   "execution_count": 7,
   "id": "2de178fd",
   "metadata": {},
   "outputs": [
    {
     "name": "stdout",
     "output_type": "stream",
     "text": [
      "Result: {'a': 400, 'b': 400, 'c': 300, 'd': 400, 'e': 1050}\n"
     ]
    }
   ],
   "source": [
    "d1 = {'a': 100, 'b': 200, 'c':300, 'e':450}\n",
    "d2 = {'a': 300, 'b': 200, 'd':400, 'e':600}\n",
    "keys1=list(d1)\n",
    "keys2=list(d2)\n",
    "d3=dict()\n",
    "i=0\n",
    "while i<len(d1):\n",
    "  if keys1[i]==keys2[i]:\n",
    "    d3[keys1[i]]=d1[keys1[i]]+d2[keys2[i]]\n",
    "  else:\n",
    "    d3[keys1[i]]=d1[keys1[i]]\n",
    "    d3[keys2[i]]=d2[keys2[i]]\n",
    "  i=i+1  \n",
    "print(\"Result:\",d3)"
   ]
  }
 ],
 "metadata": {
  "kernelspec": {
   "display_name": "Python 3",
   "language": "python",
   "name": "python3"
  },
  "language_info": {
   "codemirror_mode": {
    "name": "ipython",
    "version": 3
   },
   "file_extension": ".py",
   "mimetype": "text/x-python",
   "name": "python",
   "nbconvert_exporter": "python",
   "pygments_lexer": "ipython3",
   "version": "3.8.8"
  }
 },
 "nbformat": 4,
 "nbformat_minor": 5
}
