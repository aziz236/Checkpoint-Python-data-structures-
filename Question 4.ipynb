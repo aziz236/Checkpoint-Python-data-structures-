{
 "cells": [
  {
   "cell_type": "code",
   "execution_count": 6,
   "id": "e45d4cc5",
   "metadata": {},
   "outputs": [
    {
     "name": "stdout",
     "output_type": "stream",
     "text": [
      "insert a number: 7\n",
      "{1: 1, 2: 4, 3: 9, 4: 16, 5: 25, 6: 36, 7: 49}\n"
     ]
    }
   ],
   "source": [
    "number=int(input(\"insert a number: \"))\n",
    "result={}\n",
    "i=1\n",
    "while i<=number:\n",
    "  result[i]=i*i\n",
    "  i=i+1\n",
    "print(result)"
   ]
  }
 ],
 "metadata": {
  "kernelspec": {
   "display_name": "Python 3",
   "language": "python",
   "name": "python3"
  }
 },
 "nbformat": 4,
 "nbformat_minor": 5
}
